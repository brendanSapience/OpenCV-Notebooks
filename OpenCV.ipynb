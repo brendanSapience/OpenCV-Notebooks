{
 "cells": [
  {
   "cell_type": "markdown",
   "metadata": {},
   "source": [
    "# OpenCV Tests on multi-page PDFs\n"
   ]
  },
  {
   "cell_type": "markdown",
   "metadata": {},
   "source": [
    "### Libraries and necessary functions"
   ]
  },
  {
   "cell_type": "code",
   "execution_count": 99,
   "metadata": {},
   "outputs": [],
   "source": [
    "import numpy as np\n",
    "import cv2, os, pdf2image, shutil\n",
    "from flask import Flask,request,jsonify\n",
    "from PIL import Image\n",
    "from fpdf import FPDF\n",
    "from wand.image import Image as WImage\n",
    "from datetime import datetime\n",
    "from matplotlib import pyplot as plt\n",
    "\n",
    "\n",
    "# Delete temp folder containing png files from each page\n",
    "def deleteTempFolderForImages(oPath):\n",
    "    shutil.rmtree(oPath)\n",
    "\n",
    "# Create a temp folder to store each png file converted from each pdf page\n",
    "def createTempFolderForImages(basePath):\n",
    "    tstamp = datetime.today().strftime('%Y%m%d%H%M%S')\n",
    "    OPath = basePath+\"/\"+\"IMGS_\"+tstamp\n",
    "    try:\n",
    "        os.mkdir(OPath)\n",
    "    except OSError:\n",
    "        print (\"Creation of the directory %s failed\" % OPath)\n",
    "        return \"\"\n",
    "    else:\n",
    "        #print (\"Successfully created the directory %s \" % OPath)\n",
    "        return OPath\n",
    "    \n",
    "    \n",
    "# Converts a PDF into images (png)\n",
    "def convertPdfToImages(basePath, FileName):\n",
    "    oPath = createTempFolderForImages(basePath)\n",
    "    if(oPath != \"\"):\n",
    "        images = pdf2image.convert_from_path(basePath+\"/\"+FileName, fmt='png')\n",
    "        listofimages = []\n",
    "        idx = 0\n",
    "        for page in images:\n",
    "            idx = idx + 1\n",
    "            FileOut = oPath+\"/\"+str(idx)+'_out.png'\n",
    "            page.save(FileOut, 'png')\n",
    "            listofimages.append(FileOut)\n",
    "\n",
    "    return listofimages,oPath\n",
    "\n",
    "# Converts a list of png images back into a multi-page pdf file\n",
    "def convertImagesToPdf(myImages,basePath, outputPdfFile):\n",
    "\n",
    "    pdf = FPDF()\n",
    "    # imagelist is the list with all image filenames\n",
    "    for i in myImages:\n",
    "        #print(i)\n",
    "        pdf.add_page()\n",
    "        #print(i)\n",
    "        pdf.image(i,0,0,210,297)\n",
    "        \n",
    "    pdf.output(basePath+'/'+outputPdfFile, \"F\")\n",
    "    return 0\n",
    "\n",
    "def showImage(image):\n",
    "    plt.figure(figsize=(20,20))\n",
    "    plt.imshow(image)\n",
    "    \n",
    "# Defines the output of openCV calls\n",
    "class CVOutput:\n",
    "    def __init__(self,image,error):\n",
    "        self.image = image\n",
    "        self.error = error\n",
    "        \n",
    "        "
   ]
  },
  {
   "cell_type": "markdown",
   "metadata": {},
   "source": [
    "### List of Unitary OpenCV Operations"
   ]
  },
  {
   "cell_type": "code",
   "execution_count": 100,
   "metadata": {},
   "outputs": [],
   "source": [
    "def ChangeContrast(image, show, factor):\n",
    "    #Inter-Cubic Interpolation\n",
    "    try:\n",
    "        processedImage = cv2.multiply(image, factor)\n",
    "        ObjOut = CVOutput(processedImage,None)\n",
    "        if(show):\n",
    "            showImage(ObjOut.image)\n",
    "    except Exception as e:\n",
    "        ObjOut = CVOutput(None,e)\n",
    "    return ObjOut"
   ]
  },
  {
   "cell_type": "code",
   "execution_count": 101,
   "metadata": {},
   "outputs": [],
   "source": [
    "def OTSUBinarization(image):\n",
    "    #Inter-Cubic Interpolation\n",
    "    try:\n",
    "        ret,processedImage = cv2.threshold(image, 0, 255, cv2.THRESH_BINARY + cv2.THRESH_OTSU)\n",
    "        ObjOut = CVOutput(processedImage,None)\n",
    "    except Exception as e:\n",
    "        ObjOut = CVOutput(None,e)\n",
    "    return ObjOut"
   ]
  },
  {
   "cell_type": "code",
   "execution_count": 102,
   "metadata": {},
   "outputs": [],
   "source": [
    "def RegularBinarization(image):\n",
    "    #Inter-Cubic Interpolation\n",
    "    try:\n",
    "        ret,processedImage = cv2.threshold(image,127,255,cv2.THRESH_BINARY)\n",
    "        ObjOut = CVOutput(processedImage,None)\n",
    "    except Exception as e:\n",
    "        ObjOut = CVOutput(None,e)\n",
    "    return ObjOut\n"
   ]
  },
  {
   "cell_type": "code",
   "execution_count": 103,
   "metadata": {},
   "outputs": [],
   "source": [
    "def MorphEx(image):\n",
    "    #Inter-Cubic Interpolation\n",
    "    try:\n",
    "        rectKernel = cv2.StructuralElement(cv2.MORPH_RECT, (154,682),(965,683))\n",
    "        processedImage = cv2.morphologyEx(image, cv2.MORPH_BLACKHAT, rectKernel)\n",
    "        ObjOut = CVOutput(processedImage,None)\n",
    "    except Exception as e:\n",
    "        ObjOut = CVOutput(None,e)\n",
    "    return ObjOut"
   ]
  },
  {
   "cell_type": "code",
   "execution_count": 104,
   "metadata": {},
   "outputs": [],
   "source": [
    "def Blur(image):\n",
    "    #Inter-Cubic Interpolation\n",
    "    try:\n",
    "        processedImage = cv2.blur(image,(3,3))\n",
    "        ObjOut = CVOutput(processedImage,None)\n",
    "    except Exception as e:\n",
    "        ObjOut = CVOutput(None,e)\n",
    "    return ObjOut\n"
   ]
  },
  {
   "cell_type": "code",
   "execution_count": 105,
   "metadata": {},
   "outputs": [],
   "source": [
    "def ClaheHistoEqualization(image):\n",
    "    #Inter-Cubic Interpolation\n",
    "    try:\n",
    "        clahe = cv2.createCLAHE(clipLimit=2.0, tileGridSize=(8,8))\n",
    "        processedImage = clahe.apply(image)\n",
    "        ObjOut = CVOutput(processedImage,None)\n",
    "    except Exception as e:\n",
    "        ObjOut = CVOutput(None,e)\n",
    "    return ObjOut\n"
   ]
  },
  {
   "cell_type": "code",
   "execution_count": 106,
   "metadata": {},
   "outputs": [],
   "source": [
    "def HistoEqualization(image):\n",
    "    #Inter-Cubic Interpolation\n",
    "    try:\n",
    "        processedImage = cv2.equalizeHist(image)\n",
    "        ObjOut = CVOutput(processedImage,None)\n",
    "    except Exception as e:\n",
    "        ObjOut = CVOutput(None,e)\n",
    "    return ObjOut\n"
   ]
  },
  {
   "cell_type": "code",
   "execution_count": 107,
   "metadata": {},
   "outputs": [],
   "source": [
    "def UnsharpMasking(image):\n",
    "    #Inter-Cubic Interpolation\n",
    "    try:\n",
    "        gaussian_3 = cv2.GaussianBlur(image, (1,1), 0)\n",
    "        processedImage = cv2.addWeighted(image, 1.5, gaussian_3, -0.5, 0, image)\n",
    "        ObjOut = CVOutput(processedImage,None)\n",
    "    except Exception as e:\n",
    "        ObjOut = CVOutput(None,e)\n",
    "    return ObjOut"
   ]
  },
  {
   "cell_type": "code",
   "execution_count": 108,
   "metadata": {},
   "outputs": [],
   "source": [
    "def IntercubicInterpolation(image):\n",
    "    #Inter-Cubic Interpolation\n",
    "    try:\n",
    "        processedImage = cv2.resize(image, None, fx=3, fy=3, interpolation=cv2.INTER_CUBIC)\n",
    "        ObjOut = CVOutput(processedImage,None)\n",
    "    except Exception as e:\n",
    "        ObjOut = CVOutput(None,e)\n",
    "    return ObjOut\n"
   ]
  },
  {
   "cell_type": "code",
   "execution_count": 109,
   "metadata": {},
   "outputs": [],
   "source": [
    "def GrayScaling(image):\n",
    "    #Gray Scaling\n",
    "    try:\n",
    "        #processedImage = cv2.cvtColor(image, cv2.COLOR_BGR2GRAY)\n",
    "        processedImage = cv2.cvtColor(image, cv2.COLOR_BGR2GRAY)\n",
    "        ObjOut = CVOutput(processedImage,None)\n",
    "    except Exception as e:\n",
    "        print(\"Error:\"+str(e))\n",
    "        ObjOut = CVOutput(None,e)\n",
    "    return ObjOut\n"
   ]
  },
  {
   "cell_type": "code",
   "execution_count": 110,
   "metadata": {},
   "outputs": [],
   "source": [
    "def getImageAsArray(image):\n",
    "    img = np.asarray(image)\n",
    "    #plt.figure(figsize=(20,20))\n",
    "    #plt.imshow(img)\n",
    "    return img"
   ]
  },
  {
   "cell_type": "code",
   "execution_count": 111,
   "metadata": {},
   "outputs": [],
   "source": [
    "def ConvertToHSV(image):\n",
    "    #Inter-Cubic Interpolation\n",
    "    try:\n",
    "\n",
    "        iArr = getImageAsArray(image)\n",
    "        \n",
    "        processedImage = cv2.cvtColor(iArr, cv2.COLOR_RGB2HSV)\n",
    "        ObjOut = CVOutput(processedImage,None)\n",
    "    except Exception as e:\n",
    "        print(str(e))\n",
    "        ObjOut = CVOutput(None,e)\n",
    "    return ObjOut\n",
    "\n"
   ]
  },
  {
   "cell_type": "code",
   "execution_count": 112,
   "metadata": {},
   "outputs": [],
   "source": [
    "def Test(image):\n",
    "\n",
    "     #Inter-Cubic Interpolation\n",
    "    try:\n",
    "        kernel = np.ones((1, 1), np.uint8)\n",
    "        processedImage = cv2.erode(image, kernel, iterations=1)\n",
    "    \n",
    "        ObjOut = CVOutput(processedImage,None)\n",
    "    except Exception as e:\n",
    "        print(str(e))\n",
    "        ObjOut = CVOutput(None,e)\n",
    "    return ObjOut\n",
    "   \n",
    "    "
   ]
  },
  {
   "cell_type": "code",
   "execution_count": 129,
   "metadata": {},
   "outputs": [],
   "source": [
    "def RemoveLines(myImage):\n",
    "    '''\n",
    "    By using contours, we can remove all the lines in the doucument. This can help the OCR accuracy when we later\n",
    "    segment our image and run them through our OCR engine\n",
    " \n",
    "    '''\n",
    "    try:\n",
    "        \n",
    "        image = cv2.imread(myImage)\n",
    "        gray = cv2.cvtColor(image,cv2.COLOR_BGR2GRAY)\n",
    "        thresh = cv2.threshold(gray, 0, 255, cv2.THRESH_BINARY_INV + cv2.THRESH_OTSU)[1]\n",
    " \n",
    "        # Remove horizontal lines\n",
    "        horizontal_kernel = cv2.getStructuringElement(cv2.MORPH_RECT, (40,1))\n",
    "        remove_horizontal = cv2.morphologyEx(thresh, cv2.MORPH_OPEN, horizontal_kernel, iterations=2)\n",
    "        cnts = cv2.findContours(remove_horizontal, cv2.RETR_EXTERNAL, cv2.CHAIN_APPROX_SIMPLE)\n",
    "        cnts = cnts[0] if len(cnts) == 2 else cnts[1]\n",
    "        for c in cnts:\n",
    "            cv2.drawContours(image, [c], -1, (255,255,255), 5)\n",
    "     \n",
    "        # Remove vertical lines\n",
    "        vertical_kernel = cv2.getStructuringElement(cv2.MORPH_RECT, (1,40))\n",
    "        remove_vertical = cv2.morphologyEx(thresh, cv2.MORPH_OPEN, vertical_kernel, iterations=2)\n",
    "        cnts = cv2.findContours(remove_vertical, cv2.RETR_EXTERNAL, cv2.CHAIN_APPROX_SIMPLE)\n",
    "        cnts = cnts[0] if len(cnts) == 2 else cnts[1]\n",
    "        for c in cnts:\n",
    "            cv2.drawContours(image, [c], -1, (255,255,255), 5)\n",
    "         \n",
    "        ObjOut = CVOutput(image,None)\n",
    "        \n",
    "    except Exception as e:\n",
    "        print(e)\n",
    "        ObjOut = CVOutput(None,e)\n",
    "\n",
    "    return ObjOut\n"
   ]
  },
  {
   "cell_type": "markdown",
   "metadata": {},
   "source": [
    "# ------- Examples of File Operations on Multi Page PDF Files --------"
   ]
  },
  {
   "cell_type": "markdown",
   "metadata": {},
   "source": [
    "### Converts pdf file into multiple png images, run OpenCV operations on each image and then recombine all pngs into a multi-page pdf file"
   ]
  },
  {
   "cell_type": "markdown",
   "metadata": {},
   "source": [
    "## Example: Otsu Binarization"
   ]
  },
  {
   "cell_type": "code",
   "execution_count": 131,
   "metadata": {},
   "outputs": [
    {
     "data": {
      "image/png": "[encoded data removed]",
      "text/plain": [
       "<wand.image.Image: f5efd86 'PDF' (595x842)>"
      ]
     },
     "execution_count": 131,
     "metadata": {},
     "output_type": "execute_result"
    }
   ],
   "source": [
    "InputFileName = 'a1.pdf'\n",
    "OutputFileName = 'a1_OUT_BIN.pdf'\n",
    "BasePath = '/home/bren/git/pdf_samples/'\n",
    "\n",
    "# Convert each page into a png file (stored in a uniquely named folder)\n",
    "images = []\n",
    "images,oPath = convertPdfToImages(BasePath, InputFileName)\n",
    "\n",
    "# Process each png image 1 by 1 using OpenCV Operations\n",
    "for img in images:\n",
    "       \n",
    "    image = cv2.imread(img,cv2.IMREAD_GRAYSCALE) #imread(img,0) to load in grayscale\n",
    " \n",
    "    # another Operation\n",
    "    oi2 = OTSUBinarization(oi1.image)\n",
    "    #showImage(oi2.image)\n",
    "    \n",
    "    cv2.imwrite(img,oi2.image)\n",
    "    \n",
    "    \n",
    "# Recombine all modifed png files into a single multi-page pdf\n",
    "convertImagesToPdf(images, BasePath, OutputFileName)\n",
    "deleteTempFolderForImages(oPath)\n",
    "\n",
    "#display the pdf\n",
    "WImage(filename=BasePath+OutputFileName)\n"
   ]
  },
  {
   "cell_type": "markdown",
   "metadata": {},
   "source": [
    "## Example: Remove Vertical and Horizontal Lines from Document"
   ]
  },
  {
   "cell_type": "code",
   "execution_count": null,
   "metadata": {},
   "outputs": [],
   "source": [
    "InputFileName = 'a1.pdf'\n",
    "OutputFileName = 'a1_OUT_BIN.pdf'\n",
    "BasePath = '/home/bren/git/pdf_samples/'\n",
    "\n",
    "# Convert each page into a png file (stored in a uniquely named folder)\n",
    "images = []\n",
    "images,oPath = convertPdfToImages(BasePath, InputFileName)\n",
    "\n",
    "# Process each png image 1 by 1 using OpenCV Operations\n",
    "for img in images:\n",
    "\n",
    "    # operation on each image / page\n",
    "    oi2 = RemoveLines(img)\n",
    "    #showImage(oi2.image)\n",
    "    \n",
    "    cv2.imwrite(img,oi2.image)\n",
    "    \n",
    "    \n",
    "# Recombine all modifed png files into a single multi-page pdf\n",
    "convertImagesToPdf(images, BasePath, OutputFileName)\n",
    "deleteTempFolderForImages(oPath)\n",
    "\n",
    "#display the pdf\n",
    "WImage(filename=BasePath+OutputFileName)\n"
   ]
  },
  {
   "cell_type": "code",
   "execution_count": null,
   "metadata": {},
   "outputs": [],
   "source": []
  }
 ],
 "metadata": {
  "kernelspec": {
   "display_name": "Python 3",
   "language": "python",
   "name": "python3"
  },
  "language_info": {
   "codemirror_mode": {
    "name": "ipython",
    "version": 3
   },
   "file_extension": ".py",
   "mimetype": "text/x-python",
   "name": "python",
   "nbconvert_exporter": "python",
   "pygments_lexer": "ipython3",
   "version": "3.6.8"
  }
 },
 "nbformat": 4,
 "nbformat_minor": 2
}
